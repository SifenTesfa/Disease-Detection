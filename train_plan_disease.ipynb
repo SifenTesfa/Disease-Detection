{
  "cells": [
    {
      "cell_type": "markdown",
      "metadata": {
        "id": "view-in-github",
        "colab_type": "text"
      },
      "source": [
        "<a href=\"https://colab.research.google.com/github/SifenTesfa/Disease-Detection/blob/main/train_plan_disease.ipynb\" target=\"_parent\"><img src=\"https://colab.research.google.com/assets/colab-badge.svg\" alt=\"Open In Colab\"/></a>"
      ]
    },
    {
      "cell_type": "markdown",
      "id": "95463fba-1ef2-445d-92bb-26dcd92eca7c",
      "metadata": {
        "id": "95463fba-1ef2-445d-92bb-26dcd92eca7c"
      },
      "source": [
        "## Importing Libraries"
      ]
    },
    {
      "cell_type": "code",
      "execution_count": 1,
      "id": "63dd7ec6-719e-4978-9970-8a65b17d082e",
      "metadata": {
        "id": "63dd7ec6-719e-4978-9970-8a65b17d082e"
      },
      "outputs": [],
      "source": [
        "import tensorflow as tf\n",
        "import matplotlib.pyplot as plt\n",
        "import pandas as pd\n",
        "import seaborn as sns\n",
        "from tensorflow.keras import layers"
      ]
    },
    {
      "cell_type": "markdown",
      "id": "6e521270-4631-4a1a-8f25-6c421b32f34b",
      "metadata": {
        "id": "6e521270-4631-4a1a-8f25-6c421b32f34b"
      },
      "source": [
        "## Training  set Image Processing"
      ]
    },
    {
      "cell_type": "code",
      "execution_count": 2,
      "id": "8cabcb7f-bece-4170-978a-6e088b5df988",
      "metadata": {
        "colab": {
          "base_uri": "https://localhost:8080/"
        },
        "id": "8cabcb7f-bece-4170-978a-6e088b5df988",
        "outputId": "73fa6966-d6cf-4e57-e6ea-48f652df0adf"
      },
      "outputs": [
        {
          "output_type": "stream",
          "name": "stdout",
          "text": [
            "Mounted at /content/drive\n"
          ]
        }
      ],
      "source": [
        "from google.colab import drive\n",
        "drive.mount('/content/drive')\n"
      ]
    },
    {
      "cell_type": "code",
      "execution_count": null,
      "id": "WWuK99fAF0Us",
      "metadata": {
        "colab": {
          "background_save": true
        },
        "id": "WWuK99fAF0Us"
      },
      "outputs": [],
      "source": [
        "import os\n",
        "dataset_path = '/content/drive/MyDrive/lettuce/train'  # Adjust the path to where your 'train' directory is\n",
        "print(os.listdir(dataset_path))"
      ]
    },
    {
      "cell_type": "code",
      "execution_count": null,
      "id": "753ca8b0-6790-4cd7-9232-e2c188736123",
      "metadata": {
        "colab": {
          "background_save": true
        },
        "id": "753ca8b0-6790-4cd7-9232-e2c188736123"
      },
      "outputs": [],
      "source": [
        "training_set = tf.keras.utils.image_dataset_from_directory(\n",
        "    '/content/drive/MyDrive/lettucee/train',\n",
        "    labels=\"inferred\",\n",
        "    label_mode=\"categorical\",\n",
        "    class_names=None,\n",
        "    color_mode=\"rgb\",\n",
        "    batch_size=32,\n",
        "    image_size=(128, 128),\n",
        "    shuffle=True,\n",
        "    seed=None,\n",
        "    validation_split=None,\n",
        "    subset=None,\n",
        "    interpolation=\"bilinear\",\n",
        "    follow_links=False,\n",
        "    crop_to_aspect_ratio=False\n",
        ")"
      ]
    },
    {
      "cell_type": "markdown",
      "id": "240f7e89-fa55-4230-8456-4dac61cc7f5d",
      "metadata": {
        "id": "240f7e89-fa55-4230-8456-4dac61cc7f5d"
      },
      "source": [
        "## Validation Image Preprocessing"
      ]
    },
    {
      "cell_type": "code",
      "execution_count": null,
      "id": "2604c409-337e-477f-b38d-be0581eb7f6f",
      "metadata": {
        "colab": {
          "background_save": true
        },
        "id": "2604c409-337e-477f-b38d-be0581eb7f6f"
      },
      "outputs": [],
      "source": [
        "validation_set = tf.keras.utils.image_dataset_from_directory(\n",
        "    '/content/drive/MyDrive/lettucee/valid',\n",
        "    labels=\"inferred\",\n",
        "    label_mode=\"categorical\",\n",
        "    class_names=None,\n",
        "    color_mode=\"rgb\",\n",
        "    batch_size=32,\n",
        "    image_size=(128, 128),\n",
        "    shuffle=True,\n",
        "    seed=None,\n",
        "    validation_split=None,\n",
        "    subset=None,\n",
        "    interpolation=\"bilinear\",\n",
        "    follow_links=False,\n",
        "    crop_to_aspect_ratio=False\n",
        ")"
      ]
    },
    {
      "cell_type": "code",
      "execution_count": null,
      "id": "0adc0d66-83fc-4625-b456-cb0947c06415",
      "metadata": {
        "colab": {
          "background_save": true
        },
        "id": "0adc0d66-83fc-4625-b456-cb0947c06415"
      },
      "outputs": [],
      "source": [
        "training_set"
      ]
    },
    {
      "cell_type": "markdown",
      "id": "044145c5-ad08-4a1d-9ef1-998bf242b2cc",
      "metadata": {
        "id": "044145c5-ad08-4a1d-9ef1-998bf242b2cc"
      },
      "source": [
        "## Building Model"
      ]
    },
    {
      "cell_type": "code",
      "execution_count": null,
      "id": "b1272e8e-3a50-45d2-808e-5dbcb4a3bb66",
      "metadata": {
        "colab": {
          "background_save": true
        },
        "id": "b1272e8e-3a50-45d2-808e-5dbcb4a3bb66"
      },
      "outputs": [],
      "source": [
        "cnn = tf.keras.Sequential()"
      ]
    },
    {
      "cell_type": "code",
      "execution_count": null,
      "id": "0c1a8b81-7a3d-4b66-9217-e3a6439085c6",
      "metadata": {
        "colab": {
          "background_save": true
        },
        "id": "0c1a8b81-7a3d-4b66-9217-e3a6439085c6"
      },
      "outputs": [],
      "source": [
        "cnn.add(tf.keras.layers.BatchNormalization())"
      ]
    },
    {
      "cell_type": "code",
      "execution_count": null,
      "id": "f67e0a9a-d43f-4dba-ade4-142018aca3e3",
      "metadata": {
        "colab": {
          "background_save": true
        },
        "id": "f67e0a9a-d43f-4dba-ade4-142018aca3e3"
      },
      "outputs": [],
      "source": [
        "cnn = tf.keras.models.Sequential()"
      ]
    },
    {
      "cell_type": "markdown",
      "id": "5887eb78-9130-429f-a397-2afb93b03f25",
      "metadata": {
        "id": "5887eb78-9130-429f-a397-2afb93b03f25"
      },
      "source": [
        "## Building Convolution Layer"
      ]
    },
    {
      "cell_type": "code",
      "execution_count": null,
      "id": "bd37a0b1-ea9e-4126-b1e3-ff1a26ddae8a",
      "metadata": {
        "colab": {
          "background_save": true
        },
        "id": "bd37a0b1-ea9e-4126-b1e3-ff1a26ddae8a"
      },
      "outputs": [],
      "source": [
        "cnn.add(tf.keras.layers.Conv2D(filters=32,kernel_size=2,padding='same',activation='relu',input_shape=[128,128,3]))\n",
        "cnn.add(tf.keras.layers.Conv2D(filters=32,kernel_size=2,activation='relu'))\n",
        "cnn.add(tf.keras.layers.MaxPool2D(pool_size=2,strides=2))"
      ]
    },
    {
      "cell_type": "code",
      "execution_count": null,
      "id": "646d58c1-f1d4-4045-a73d-e35a6bc24c33",
      "metadata": {
        "colab": {
          "background_save": true
        },
        "id": "646d58c1-f1d4-4045-a73d-e35a6bc24c33"
      },
      "outputs": [],
      "source": [
        "cnn.add(tf.keras.layers.Conv2D(filters=64,kernel_size=2,padding='same',activation='relu'))\n",
        "cnn.add(tf.keras.layers.Conv2D(filters=64,kernel_size=2,activation='relu'))\n",
        "cnn.add(tf.keras.layers.MaxPool2D(pool_size=2,strides=2))"
      ]
    },
    {
      "cell_type": "code",
      "execution_count": null,
      "id": "a2529a22-93d1-4506-97cd-3cd70c34882d",
      "metadata": {
        "colab": {
          "background_save": true
        },
        "id": "a2529a22-93d1-4506-97cd-3cd70c34882d"
      },
      "outputs": [],
      "source": [
        "cnn.add(tf.keras.layers.Conv2D(filters=128,kernel_size=2,padding='same',activation='relu'))\n",
        "cnn.add(tf.keras.layers.Conv2D(filters=128,kernel_size=2,activation='relu'))\n",
        "cnn.add(tf.keras.layers.MaxPool2D(pool_size=2,strides=2))"
      ]
    },
    {
      "cell_type": "code",
      "execution_count": null,
      "id": "5b10a0b1-e57d-4245-9a0f-268c698f9a43",
      "metadata": {
        "colab": {
          "background_save": true
        },
        "id": "5b10a0b1-e57d-4245-9a0f-268c698f9a43"
      },
      "outputs": [],
      "source": [
        "cnn.add(tf.keras.layers.Conv2D(filters=256,kernel_size=2,padding='same',activation='relu'))\n",
        "cnn.add(tf.keras.layers.Conv2D(filters=256,kernel_size=2,activation='relu'))\n",
        "cnn.add(tf.keras.layers.MaxPool2D(pool_size=2,strides=2))"
      ]
    },
    {
      "cell_type": "code",
      "execution_count": null,
      "id": "a4945bfc-db0b-43d4-b705-801f9247520c",
      "metadata": {
        "colab": {
          "background_save": true
        },
        "id": "a4945bfc-db0b-43d4-b705-801f9247520c"
      },
      "outputs": [],
      "source": [
        "cnn.add(tf.keras.layers.Conv2D(filters=512,kernel_size=2,padding='same',activation='relu'))\n",
        "cnn.add(tf.keras.layers.Conv2D(filters=512,kernel_size=2,activation='relu'))\n",
        "cnn.add(tf.keras.layers.MaxPool2D(pool_size=2,strides=2))"
      ]
    },
    {
      "cell_type": "code",
      "execution_count": null,
      "id": "22a10af4-0632-4a95-b55c-81ed3edabda0",
      "metadata": {
        "colab": {
          "background_save": true
        },
        "id": "22a10af4-0632-4a95-b55c-81ed3edabda0"
      },
      "outputs": [],
      "source": [
        "cnn.add(tf.keras.layers.Dropout(0.25))"
      ]
    },
    {
      "cell_type": "code",
      "execution_count": null,
      "id": "dd10259b-7cd2-413b-8d33-a52fa4a2d957",
      "metadata": {
        "colab": {
          "background_save": true
        },
        "id": "dd10259b-7cd2-413b-8d33-a52fa4a2d957"
      },
      "outputs": [],
      "source": [
        "cnn.add(tf.keras.layers.Flatten())"
      ]
    },
    {
      "cell_type": "code",
      "execution_count": null,
      "id": "6582c982-7af0-48a9-a033-ec0d632b01fb",
      "metadata": {
        "colab": {
          "background_save": true
        },
        "id": "6582c982-7af0-48a9-a033-ec0d632b01fb"
      },
      "outputs": [],
      "source": [
        "# First Hidden Dense Layer\n",
        "cnn.add(tf.keras.layers.Dense(units=1500, activation='relu'))"
      ]
    },
    {
      "cell_type": "code",
      "execution_count": null,
      "id": "e7965296-05a6-43b3-bdf6-a57d7d249732",
      "metadata": {
        "colab": {
          "background_save": true
        },
        "id": "e7965296-05a6-43b3-bdf6-a57d7d249732"
      },
      "outputs": [],
      "source": [
        "# Second Hidden Dense Layer\n",
        "cnn.add(tf.keras.layers.Dense(units=1000, activation='relu'))"
      ]
    },
    {
      "cell_type": "code",
      "execution_count": null,
      "id": "8f7c06c5-d886-4e2a-8ed3-53f11855c126",
      "metadata": {
        "colab": {
          "background_save": true
        },
        "id": "8f7c06c5-d886-4e2a-8ed3-53f11855c126"
      },
      "outputs": [],
      "source": [
        "cnn.add(tf.keras.layers.Dropout(0.4)) #To avoid overfitting"
      ]
    },
    {
      "cell_type": "code",
      "execution_count": null,
      "id": "7f738522-f472-420c-ba9d-07214f3f5279",
      "metadata": {
        "colab": {
          "background_save": true
        },
        "id": "7f738522-f472-420c-ba9d-07214f3f5279"
      },
      "outputs": [],
      "source": [
        "#Output Layer\n",
        "cnn.add(tf.keras.layers.Dense(units=3,activation='softmax'))"
      ]
    },
    {
      "cell_type": "code",
      "execution_count": null,
      "id": "b6a282ef-73fc-4792-8c1e-f37b7fae331c",
      "metadata": {
        "colab": {
          "background_save": true
        },
        "id": "b6a282ef-73fc-4792-8c1e-f37b7fae331c"
      },
      "outputs": [],
      "source": [
        "cnn.compile(optimizer=tf.keras.optimizers.Adam(learning_rate=0.0001),\n",
        "            loss='categorical_crossentropy', metrics=['accuracy'])\n"
      ]
    },
    {
      "cell_type": "code",
      "execution_count": null,
      "id": "16810a48-bb2a-4989-a9e6-73dceb017273",
      "metadata": {
        "colab": {
          "background_save": true
        },
        "id": "16810a48-bb2a-4989-a9e6-73dceb017273"
      },
      "outputs": [],
      "source": [
        "cnn.summary()"
      ]
    },
    {
      "cell_type": "code",
      "execution_count": null,
      "id": "fDZMDcRMxwg_",
      "metadata": {
        "colab": {
          "background_save": true
        },
        "id": "fDZMDcRMxwg_"
      },
      "outputs": [],
      "source": [
        "from pathlib import Path\n",
        "import imghdr\n",
        "\n",
        "data_dir = \"/content/drive/MyDrive/lettucee/train\"\n",
        "image_extensions = [\".png\", \".jpg\"]  # add there all your images file extensions\n",
        "\n",
        "img_type_accepted_by_tf = [\"bmp\", \"gif\", \"jpeg\", \"png\"]\n",
        "for filepath in Path(data_dir).rglob(\"*\"):\n",
        "    if filepath.suffix.lower() in image_extensions:\n",
        "        img_type = imghdr.what(filepath)\n",
        "        if img_type is None:\n",
        "            print(f\"{filepath} is not an image\")\n",
        "        elif img_type not in img_type_accepted_by_tf:\n",
        "            print(f\"{filepath} is a {img_type}, not accepted by TensorFlow\")"
      ]
    },
    {
      "cell_type": "code",
      "execution_count": null,
      "id": "5qf5jBV-yxtq",
      "metadata": {
        "colab": {
          "background_save": true
        },
        "id": "5qf5jBV-yxtq"
      },
      "outputs": [],
      "source": [
        "from pathlib import Path\n",
        "import imghdr\n",
        "\n",
        "data_dir = \"/content/drive/MyDrive/lettucee/valig\"\n",
        "image_extensions = [\".png\", \".jpg\"]  # add there all your images file extensions\n",
        "\n",
        "img_type_accepted_by_tf = [\"bmp\", \"gif\", \"jpeg\", \"png\"]\n",
        "for filepath in Path(data_dir).rglob(\"*\"):\n",
        "    if filepath.suffix.lower() in image_extensions:\n",
        "        img_type = imghdr.what(filepath)\n",
        "        if img_type is None:\n",
        "            print(f\"{filepath} is not an image\")\n",
        "        elif img_type not in img_type_accepted_by_tf:\n",
        "            print(f\"{filepath} is a {img_type}, not accepted by TensorFlow\")"
      ]
    },
    {
      "cell_type": "code",
      "execution_count": null,
      "id": "8qK7B-2fxLSM",
      "metadata": {
        "colab": {
          "background_save": true
        },
        "id": "8qK7B-2fxLSM"
      },
      "outputs": [],
      "source": [
        "import os\n",
        "\n",
        "image_dir = '/content/drive/MyDrive/lettucee/train'\n",
        "\n",
        "# List files and check if they are actually image files\n",
        "for folder in os.listdir(image_dir):\n",
        "    folder_path = os.path.join(image_dir, folder)\n",
        "    if os.path.isdir(folder_path):\n",
        "        for file in os.listdir(folder_path):\n",
        "            file_path = os.path.join(folder_path, file)\n",
        "            if not file.lower().endswith(('.jpg', '.jpeg', '.png')):\n",
        "                print(f\"Invalid file found: {file_path}\")\n"
      ]
    },
    {
      "cell_type": "code",
      "execution_count": null,
      "id": "2c43b463-fc33-44c9-a0f4-bb0c91613fb3",
      "metadata": {
        "colab": {
          "background_save": true
        },
        "id": "2c43b463-fc33-44c9-a0f4-bb0c91613fb3"
      },
      "outputs": [],
      "source": [
        "training_history = cnn.fit(x=training_set,validation_data=validation_set,epochs=10)"
      ]
    },
    {
      "cell_type": "code",
      "execution_count": null,
      "id": "8ck3PY6dwNFL",
      "metadata": {
        "colab": {
          "background_save": true
        },
        "id": "8ck3PY6dwNFL"
      },
      "outputs": [],
      "source": [
        "import os\n",
        "\n",
        "image_dir = '/content/drive/MyDrive/lettucee/train'\n",
        "valid_extensions = ['.jpg', '.jpeg', '.png']\n",
        "\n",
        "for filename in os.listdir(image_dir):\n",
        "    if not any(filename.endswith(ext) for ext in valid_extensions):\n",
        "        print(f\"Invalid file found: {filename}\")"
      ]
    },
    {
      "cell_type": "code",
      "execution_count": null,
      "id": "b9f6a7b4-83ab-4220-9f2e-446e8c334aab",
      "metadata": {
        "colab": {
          "background_save": true
        },
        "id": "b9f6a7b4-83ab-4220-9f2e-446e8c334aab"
      },
      "outputs": [],
      "source": [
        "#Training set Accuracy\n",
        "train_loss, train_acc = cnn.evaluate(training_set)\n",
        "print('Training accuracy:', train_acc)"
      ]
    },
    {
      "cell_type": "code",
      "execution_count": null,
      "id": "bac09710-8780-4ba5-ae53-65da6d4d9d6c",
      "metadata": {
        "colab": {
          "background_save": true
        },
        "id": "bac09710-8780-4ba5-ae53-65da6d4d9d6c"
      },
      "outputs": [],
      "source": [
        "#Validation set Accuracy\n",
        "val_loss, val_acc = cnn.evaluate(validation_set)\n",
        "print('Validation accuracy:', val_acc)"
      ]
    },
    {
      "cell_type": "code",
      "execution_count": null,
      "id": "e0394c10-12ad-4975-b5ce-0d7426302f87",
      "metadata": {
        "colab": {
          "background_save": true
        },
        "id": "e0394c10-12ad-4975-b5ce-0d7426302f87"
      },
      "outputs": [],
      "source": [
        "cnn.save('trained_plant_disease_model.keras')"
      ]
    },
    {
      "cell_type": "code",
      "execution_count": null,
      "id": "dd9bcf77-2c9d-4b17-96d3-55ab48989489",
      "metadata": {
        "colab": {
          "background_save": true
        },
        "id": "dd9bcf77-2c9d-4b17-96d3-55ab48989489"
      },
      "outputs": [],
      "source": [
        "training_history.history #Return Dictionary of history"
      ]
    },
    {
      "cell_type": "code",
      "execution_count": null,
      "id": "1cdfe768-3c66-4e1f-b60e-5c44a50ee10a",
      "metadata": {
        "colab": {
          "background_save": true
        },
        "id": "1cdfe768-3c66-4e1f-b60e-5c44a50ee10a"
      },
      "outputs": [],
      "source": [
        "#Recording History in json\n",
        "import json\n",
        "with open('training_hist.json','w') as f:\n",
        "  json.dump(training_history.history,f)"
      ]
    },
    {
      "cell_type": "code",
      "execution_count": null,
      "id": "e00c2d9e-a311-436b-b291-56b99325ea54",
      "metadata": {
        "colab": {
          "background_save": true
        },
        "id": "e00c2d9e-a311-436b-b291-56b99325ea54"
      },
      "outputs": [],
      "source": [
        "print(training_history.history.keys())"
      ]
    },
    {
      "cell_type": "code",
      "execution_count": null,
      "id": "d58bdccf-c7e0-45eb-9570-a408568ae28f",
      "metadata": {
        "colab": {
          "background_save": true
        },
        "id": "d58bdccf-c7e0-45eb-9570-a408568ae28f"
      },
      "outputs": [],
      "source": [
        "epochs = [i for i in range(1,11)]\n",
        "plt.plot(epochs,training_history.history['accuracy'],color='red',label='Training Accuracy')\n",
        "plt.plot(epochs,training_history.history['val_accuracy'],color='blue',label='Validation Accuracy')\n",
        "plt.xlabel('No. of Epochs')\n",
        "plt.title('Visualization of Accuracy Result')\n",
        "plt.legend()\n",
        "plt.show()"
      ]
    },
    {
      "cell_type": "markdown",
      "id": "d1cb8c87-6d68-4287-8a9e-68ec3b188896",
      "metadata": {
        "id": "d1cb8c87-6d68-4287-8a9e-68ec3b188896"
      },
      "source": [
        "## Some other metrics for model evaluation"
      ]
    },
    {
      "cell_type": "code",
      "execution_count": null,
      "id": "dfac4bf8-fae1-4ac6-a1f7-f6df968e4497",
      "metadata": {
        "colab": {
          "background_save": true
        },
        "id": "dfac4bf8-fae1-4ac6-a1f7-f6df968e4497"
      },
      "outputs": [],
      "source": [
        "class_name = validation_set.class_names"
      ]
    },
    {
      "cell_type": "code",
      "execution_count": null,
      "id": "7d11d45e-1f64-45cb-8df0-8381ef6e6ad4",
      "metadata": {
        "colab": {
          "background_save": true
        },
        "id": "7d11d45e-1f64-45cb-8df0-8381ef6e6ad4"
      },
      "outputs": [],
      "source": [
        "test_set = tf.keras.utils.image_dataset_from_directory(\n",
        "    'valid',\n",
        "    labels=\"inferred\",\n",
        "    label_mode=\"categorical\",\n",
        "    class_names=None,\n",
        "    color_mode=\"rgb\",\n",
        "    batch_size=1,\n",
        "    image_size=(128, 128),\n",
        "    shuffle=False,\n",
        "    seed=None,\n",
        "    validation_split=None,\n",
        "    subset=None,\n",
        "    interpolation=\"bilinear\",\n",
        "    follow_links=False,\n",
        "    crop_to_aspect_ratio=False\n",
        ")"
      ]
    },
    {
      "cell_type": "code",
      "execution_count": null,
      "id": "4adb42cc-9a33-4cca-8fb2-f43ed4d16011",
      "metadata": {
        "colab": {
          "background_save": true
        },
        "id": "4adb42cc-9a33-4cca-8fb2-f43ed4d16011"
      },
      "outputs": [],
      "source": [
        "y_pred = cnn.predict(test_set)\n",
        "predicted_categories = tf.argmax(y_pred, axis=1)"
      ]
    },
    {
      "cell_type": "code",
      "execution_count": null,
      "id": "6921078e-62ea-4cc3-882d-f04d3e7fcb16",
      "metadata": {
        "colab": {
          "background_save": true
        },
        "id": "6921078e-62ea-4cc3-882d-f04d3e7fcb16"
      },
      "outputs": [],
      "source": [
        "true_categories = tf.concat([y for x, y in test_set], axis=0)\n",
        "Y_true = tf.argmax(true_categories, axis=1)"
      ]
    },
    {
      "cell_type": "code",
      "execution_count": null,
      "id": "5dc7f1cc-3358-4ada-852a-4ad795f7eedd",
      "metadata": {
        "colab": {
          "background_save": true
        },
        "id": "5dc7f1cc-3358-4ada-852a-4ad795f7eedd"
      },
      "outputs": [],
      "source": [
        "Y_true"
      ]
    },
    {
      "cell_type": "code",
      "execution_count": null,
      "id": "e451e839-f6f5-40d4-8dd7-2534a111f0cb",
      "metadata": {
        "colab": {
          "background_save": true
        },
        "id": "e451e839-f6f5-40d4-8dd7-2534a111f0cb"
      },
      "outputs": [],
      "source": [
        "predicted_categories"
      ]
    },
    {
      "cell_type": "code",
      "execution_count": null,
      "id": "8298ece5-c275-4b9f-8969-458dd5348b54",
      "metadata": {
        "colab": {
          "background_save": true
        },
        "id": "8298ece5-c275-4b9f-8969-458dd5348b54"
      },
      "outputs": [],
      "source": [
        "from sklearn.metrics import confusion_matrix,classification_report\n",
        "cm = confusion_matrix(Y_true,predicted_categories)"
      ]
    },
    {
      "cell_type": "code",
      "execution_count": null,
      "id": "5aed3624-44b5-496c-80df-3a289c5c612a",
      "metadata": {
        "colab": {
          "background_save": true
        },
        "id": "5aed3624-44b5-496c-80df-3a289c5c612a"
      },
      "outputs": [],
      "source": [
        "# Precision Recall Fscore\n",
        "print(classification_report(Y_true,predicted_categories,target_names=class_name))"
      ]
    },
    {
      "cell_type": "code",
      "execution_count": null,
      "id": "80633d43-1411-468b-8c8a-26e6c4f8d97a",
      "metadata": {
        "colab": {
          "background_save": true
        },
        "id": "80633d43-1411-468b-8c8a-26e6c4f8d97a"
      },
      "outputs": [],
      "source": [
        "plt.figure(figsize=(40, 40))\n",
        "sns.heatmap(cm,annot=True,annot_kws={\"size\": 10})\n",
        "\n",
        "plt.xlabel('Predicted Class',fontsize = 20)\n",
        "plt.ylabel('Actual Class',fontsize = 20)\n",
        "plt.title('Plant Disease Prediction Confusion Matrix',fontsize = 25)\n",
        "plt.show()"
      ]
    },
    {
      "cell_type": "code",
      "execution_count": null,
      "id": "6f5ab39a-bbe0-4100-b616-cbefd53436f9",
      "metadata": {
        "colab": {
          "background_save": true
        },
        "id": "6f5ab39a-bbe0-4100-b616-cbefd53436f9"
      },
      "outputs": [],
      "source": []
    }
  ],
  "metadata": {
    "colab": {
      "provenance": [],
      "include_colab_link": true
    },
    "kernelspec": {
      "display_name": "Python (tensorflow_env)",
      "language": "python",
      "name": "tensorflow_env"
    },
    "language_info": {
      "codemirror_mode": {
        "name": "ipython",
        "version": 3
      },
      "file_extension": ".py",
      "mimetype": "text/x-python",
      "name": "python",
      "nbconvert_exporter": "python",
      "pygments_lexer": "ipython3",
      "version": "3.9.18"
    }
  },
  "nbformat": 4,
  "nbformat_minor": 5
}